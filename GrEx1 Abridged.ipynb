{
 "cells": [
  {
   "cell_type": "markdown",
   "metadata": {},
   "source": [
    "# GrEx1"
   ]
  },
  {
   "cell_type": "markdown",
   "metadata": {},
   "source": [
    "# Predict 420 Sec 55"
   ]
  },
  {
   "cell_type": "markdown",
   "metadata": {},
   "source": [
    "# Rich Rouse"
   ]
  },
  {
   "cell_type": "markdown",
   "metadata": {},
   "source": [
    "## This assignment will follow the professor's instructions for GrEx1 as posted in Canvas"
   ]
  },
  {
   "cell_type": "markdown",
   "metadata": {
    "collapsed": true
   },
   "source": [
    "### Adjust the working directories to assist with locating files while looping"
   ]
  },
  {
   "cell_type": "code",
   "execution_count": 3,
   "metadata": {
    "collapsed": true
   },
   "outputs": [],
   "source": [
    "import os #import os module"
   ]
  },
  {
   "cell_type": "code",
   "execution_count": 4,
   "metadata": {
    "collapsed": false
   },
   "outputs": [
    {
     "data": {
      "text/plain": [
       "'C:\\\\Users\\\\Rich\\\\Predict 401'"
      ]
     },
     "execution_count": 4,
     "metadata": {},
     "output_type": "execute_result"
    }
   ],
   "source": [
    "os.getcwd()  #check the current working directory"
   ]
  },
  {
   "cell_type": "code",
   "execution_count": 5,
   "metadata": {
    "collapsed": true
   },
   "outputs": [],
   "source": [
    "os.chdir(\"C:/Users/Rich/Documents/Northwestern/Predict 420/GrEx1\") # target confirmed, change the directory"
   ]
  },
  {
   "cell_type": "code",
   "execution_count": 6,
   "metadata": {
    "collapsed": false
   },
   "outputs": [
    {
     "data": {
      "text/plain": [
       "'C:\\\\Users\\\\Rich\\\\Documents\\\\Northwestern\\\\Predict 420\\\\GrEx1'"
      ]
     },
     "execution_count": 6,
     "metadata": {},
     "output_type": "execute_result"
    }
   ],
   "source": [
    "os.getcwd() #double-check that the working directory was successfully changed"
   ]
  },
  {
   "cell_type": "code",
   "execution_count": 7,
   "metadata": {
    "collapsed": true
   },
   "outputs": [],
   "source": [
    "#importing pandas and numpy\n",
    "import numpy as np\n",
    "import pandas as pd\n",
    "from pandas import Series,DataFrame"
   ]
  },
  {
   "cell_type": "markdown",
   "metadata": {},
   "source": [
    "## Create the columns to be used for the DataFrames"
   ]
  },
  {
   "cell_type": "code",
   "execution_count": 8,
   "metadata": {
    "collapsed": true
   },
   "outputs": [],
   "source": [
    "cols = [\"Airport_cols\",\"Airline_cols\",\"Routes_cols\"]  #file names\n",
    "things = [] # will become container for column names to be used in DataFrames\n",
    "for i in cols:\n",
    "   file = open(\"%s.txt\"%i,\"r\")   #create a file object using open and the filename\n",
    "   heading = file.read().split(\", \")  #read the file object into a list after splitting the contents by the \",\"\n",
    "   things.append(heading)  #add the newly created column name list to the container list \"cols\""
   ]
  },
  {
   "cell_type": "markdown",
   "metadata": {},
   "source": [
    "## Import the openair.org .dat files"
   ]
  },
  {
   "cell_type": "code",
   "execution_count": 9,
   "metadata": {
    "collapsed": true
   },
   "outputs": [],
   "source": [
    "frames = [\"airlines\",\"airports\",\"Routes\"] # file names\n",
    "for i in frames: # generate a loop to open the .dat files as DataFrames\n",
    "    globals()[i] = pd.read_csv(\"%s.dat\"%i,header=None)  # create DataFrames from the .dat files using the read_csv() pandas function "
   ]
  },
  {
   "cell_type": "code",
   "execution_count": 10,
   "metadata": {
    "collapsed": true
   },
   "outputs": [],
   "source": [
    "# check the frames were created successfully"
   ]
  },
  {
   "cell_type": "markdown",
   "metadata": {},
   "source": [
    "## Assign the column names to the DataFrames"
   ]
  },
  {
   "cell_type": "code",
   "execution_count": 11,
   "metadata": {
    "collapsed": false
   },
   "outputs": [],
   "source": [
    "airports.columns = things[0]  #assign the column names by referencing the appropriate index in the container created above"
   ]
  },
  {
   "cell_type": "code",
   "execution_count": 12,
   "metadata": {
    "collapsed": false
   },
   "outputs": [],
   "source": [
    "airlines.columns = things[1]"
   ]
  },
  {
   "cell_type": "code",
   "execution_count": 13,
   "metadata": {
    "collapsed": false
   },
   "outputs": [],
   "source": [
    "Routes.columns = things[2]"
   ]
  },
  {
   "cell_type": "markdown",
   "metadata": {},
   "source": [
    "## Conduct a merge between the Routes and Airports DataFrame for use in calculating flight  distances"
   ]
  },
  {
   "cell_type": "code",
   "execution_count": 14,
   "metadata": {
    "collapsed": false
   },
   "outputs": [
    {
     "data": {
      "text/html": [
       "<div>\n",
       "<table border=\"1\" class=\"dataframe\">\n",
       "  <thead>\n",
       "    <tr style=\"text-align: right;\">\n",
       "      <th></th>\n",
       "      <th>Airport_ID</th>\n",
       "      <th>Latitude</th>\n",
       "      <th>Longitude</th>\n",
       "    </tr>\n",
       "  </thead>\n",
       "  <tbody>\n",
       "    <tr>\n",
       "      <th>0</th>\n",
       "      <td>1</td>\n",
       "      <td>-6.081690</td>\n",
       "      <td>145.391998</td>\n",
       "    </tr>\n",
       "    <tr>\n",
       "      <th>1</th>\n",
       "      <td>2</td>\n",
       "      <td>-5.207080</td>\n",
       "      <td>145.789001</td>\n",
       "    </tr>\n",
       "    <tr>\n",
       "      <th>2</th>\n",
       "      <td>3</td>\n",
       "      <td>-5.826790</td>\n",
       "      <td>144.296005</td>\n",
       "    </tr>\n",
       "    <tr>\n",
       "      <th>3</th>\n",
       "      <td>4</td>\n",
       "      <td>-6.569803</td>\n",
       "      <td>146.725977</td>\n",
       "    </tr>\n",
       "    <tr>\n",
       "      <th>4</th>\n",
       "      <td>5</td>\n",
       "      <td>-9.443380</td>\n",
       "      <td>147.220001</td>\n",
       "    </tr>\n",
       "  </tbody>\n",
       "</table>\n",
       "</div>"
      ],
      "text/plain": [
       "   Airport_ID  Latitude   Longitude\n",
       "0           1 -6.081690  145.391998\n",
       "1           2 -5.207080  145.789001\n",
       "2           3 -5.826790  144.296005\n",
       "3           4 -6.569803  146.725977\n",
       "4           5 -9.443380  147.220001"
      ]
     },
     "execution_count": 14,
     "metadata": {},
     "output_type": "execute_result"
    }
   ],
   "source": [
    "##creating a condensed version of the Airports DataFrame that contains only lat and lon\n",
    "locs = airports[[\"Airport_ID\",\"Latitude\",\"Longitude\"]]\n",
    "locs.head()"
   ]
  },
  {
   "cell_type": "code",
   "execution_count": 15,
   "metadata": {
    "collapsed": false
   },
   "outputs": [
    {
     "name": "stdout",
     "output_type": "stream",
     "text": [
      "<type 'numpy.float64'>\n",
      "<type 'str'>\n"
     ]
    }
   ],
   "source": [
    "print type(locs.ix[0,0])  #check the datatype of the Airport ID series in the locations DataFrame\n",
    "print type(Routes.ix[0,3])  #check the datatype of the Airport ID series in the Routes DataFrame\n"
   ]
  },
  {
   "cell_type": "code",
   "execution_count": 16,
   "metadata": {
    "collapsed": true
   },
   "outputs": [],
   "source": [
    "## so there is a mismatch in how the Airport IDs were interpeted during the import of the .dat files.  \n",
    "## The datatypes must match in order to conduct the merge."
   ]
  },
  {
   "cell_type": "code",
   "execution_count": 17,
   "metadata": {
    "collapsed": false
   },
   "outputs": [
    {
     "name": "stderr",
     "output_type": "stream",
     "text": [
      "C:\\Users\\Rich\\Anaconda2\\lib\\site-packages\\ipykernel\\__main__.py:2: SettingWithCopyWarning: \n",
      "A value is trying to be set on a copy of a slice from a DataFrame.\n",
      "Try using .loc[row_indexer,col_indexer] = value instead\n",
      "\n",
      "See the caveats in the documentation: http://pandas.pydata.org/pandas-docs/stable/indexing.html#indexing-view-versus-copy\n",
      "  from ipykernel import kernelapp as app\n"
     ]
    }
   ],
   "source": [
    "#convert Airport ID in locs to string to match the Routes Airport ID string format\n",
    "locs[\"Airport_ID\"] = locs[\"Airport_ID\"].astype(str)"
   ]
  },
  {
   "cell_type": "code",
   "execution_count": 18,
   "metadata": {
    "collapsed": false
   },
   "outputs": [],
   "source": [
    "## merge the Routes DataFrame with the locs data\n",
    "## merge on source airport ID's\n",
    "result = pd.merge(Routes,locs, left_on=\"Source_ID\", right_on = \"Airport_ID\")"
   ]
  },
  {
   "cell_type": "code",
   "execution_count": 46,
   "metadata": {
    "collapsed": false
   },
   "outputs": [],
   "source": [
    "## merge on destination airport ID's\n",
    "result2 = pd.merge(result,locs, left_on=\"Destination_ID\", right_on = \"Airport_ID\")"
   ]
  },
  {
   "cell_type": "code",
   "execution_count": 47,
   "metadata": {
    "collapsed": true
   },
   "outputs": [],
   "source": [
    "\"\"\"\n",
    "define the haversine formula to calculate route distances distance between \n",
    "airport lats and long using the Route information\n",
    "\"\"\"\n",
    "\n",
    "def haversine(x):\n",
    "    lat1,lon1,lat2,lon2 = x  #unpack ze values\n",
    "    lat1 = np.deg2rad(lat1) #convert initial lat in degrees to radians\n",
    "    lon1 = np.deg2rad(lon1) #convert initial lon in degrees to radians\n",
    "    lat2 = np.deg2rad(lat2) #convert dest lat in degrees to radians\n",
    "    lon2 = np.deg2rad(lon2) #convert dest lon in degrees to radians\n",
    "    R = 6371 # earth mean radius in km\n",
    "       \n",
    "    deltalat = lat2 - lat1 #difference in initial and dest lat\n",
    "    deltalon = lon2 - lon1 #difference in initial and dest lon\n",
    "    \n",
    "    #Apply Haversine formula\n",
    "    a=np.sin(deltalat/2)**2+np.cos(lat1)*np.cos(lat2)*np.sin(deltalon/2)**2\n",
    "    c=2*np.arctan2(np.sqrt(a),np.sqrt(1-a))\n",
    "    d=R*c\n",
    "    return d"
   ]
  },
  {
   "cell_type": "code",
   "execution_count": 48,
   "metadata": {
    "collapsed": true
   },
   "outputs": [],
   "source": [
    "## Apply the Haversine function to the DataFrame to return distances\n",
    "result2[\"Distance in KM\"] = result2[[\"Latitude_x\",\"Longitude_x\",\"Latitude_y\",\"Longitude_y\"]].apply(haversine,axis=1)"
   ]
  },
  {
   "cell_type": "code",
   "execution_count": 49,
   "metadata": {
    "collapsed": true
   },
   "outputs": [],
   "source": [
    "## Convert the distances to integers; the default display was scientific notation\n",
    "result2[\"Distance in KM\"] = result2[\"Distance in KM\"].astype(int)"
   ]
  },
  {
   "cell_type": "markdown",
   "metadata": {},
   "source": [
    "## Check for duplicate entries in the DataFrames"
   ]
  },
  {
   "cell_type": "code",
   "execution_count": 23,
   "metadata": {
    "collapsed": false
   },
   "outputs": [
    {
     "name": "stdout",
     "output_type": "stream",
     "text": [
      "0\n",
      "0\n",
      "0\n"
     ]
    }
   ],
   "source": [
    "## Check for duplicate entries within the dataframes using the DataFrame.duplicated() function.  Returns boolean True or False \n",
    "## if duplicate is detected\n",
    "print sum(Routes.duplicated())  # use sum in conjunction with the .duplicated() function to count the True values\n",
    "\n",
    "print sum(airlines.duplicated())\n",
    "\n",
    "print sum(airports.duplicated())"
   ]
  },
  {
   "cell_type": "code",
   "execution_count": 24,
   "metadata": {
    "collapsed": true
   },
   "outputs": [],
   "source": [
    "# no duplicates detected"
   ]
  },
  {
   "cell_type": "markdown",
   "metadata": {},
   "source": [
    "## Gather info on the datatypes and size of the DataFrames"
   ]
  },
  {
   "cell_type": "code",
   "execution_count": 25,
   "metadata": {
    "collapsed": true
   },
   "outputs": [
    {
     "name": "stdout",
     "output_type": "stream",
     "text": [
      "<class 'pandas.core.frame.DataFrame'>\n",
      "RangeIndex: 67663 entries, 0 to 67662\n",
      "Data columns (total 9 columns):\n",
      "Airline           67663 non-null object\n",
      "ID                67663 non-null object\n",
      "Source            67663 non-null object\n",
      "Source_ID         67663 non-null object\n",
      "Destination       67663 non-null object\n",
      "Destination_ID    67663 non-null object\n",
      "Codeshare         14597 non-null object\n",
      "Stops             67663 non-null int64\n",
      "Equipment         67645 non-null object\n",
      "dtypes: int64(1), object(8)\n",
      "memory usage: 4.6+ MB\n",
      "None\n",
      "<class 'pandas.core.frame.DataFrame'>\n",
      "RangeIndex: 6162 entries, 0 to 6161\n",
      "Data columns (total 8 columns):\n",
      "ID          6162 non-null int64\n",
      "Name        6162 non-null object\n",
      "Alias       5657 non-null object\n",
      "IATA        1535 non-null object\n",
      "ICAO        6075 non-null object\n",
      "Callsign    5354 non-null object\n",
      "Country     6147 non-null object\n",
      "Active      6162 non-null object\n",
      "dtypes: int64(1), object(7)\n",
      "memory usage: 385.2+ KB\n",
      "None\n",
      "<class 'pandas.core.frame.DataFrame'>\n",
      "RangeIndex: 7184 entries, 0 to 7183\n",
      "Data columns (total 14 columns):\n",
      "Airport_ID    7184 non-null int64\n",
      "Name          7184 non-null object\n",
      "City          7140 non-null object\n",
      "Country       7184 non-null object\n",
      "IATA          7182 non-null object\n",
      "ICAO          7184 non-null object\n",
      "Latitude      7184 non-null float64\n",
      "Longitude     7184 non-null float64\n",
      "Altitude      7184 non-null int64\n",
      "Timezone      7184 non-null object\n",
      "DST           7184 non-null object\n",
      "Tz            7184 non-null object\n",
      "Type          7184 non-null object\n",
      "Source        7184 non-null object\n",
      "dtypes: float64(2), int64(2), object(10)\n",
      "memory usage: 785.8+ KB\n",
      "None\n"
     ]
    }
   ],
   "source": [
    "##Gather info on the Datatypes and size of the DataFrames using the .info() function\n",
    "print Routes.info() \n",
    "\n",
    "print airlines.info()\n",
    "\n",
    "print airports.info()"
   ]
  },
  {
   "cell_type": "markdown",
   "metadata": {},
   "source": [
    "## Determine defunct airlines"
   ]
  },
  {
   "cell_type": "markdown",
   "metadata": {},
   "source": [
    "### I utilized the \"Active\" series in the Airlines dataframe to determine if the airline was defunct.  Using a boolean index/slice command on the \"Active\" series where the values == \"N\" was the best way I saw to proceed"
   ]
  },
  {
   "cell_type": "code",
   "execution_count": 26,
   "metadata": {
    "collapsed": false
   },
   "outputs": [
    {
     "data": {
      "text/plain": [
       "4906"
      ]
     },
     "execution_count": 26,
     "metadata": {},
     "output_type": "execute_result"
    }
   ],
   "source": [
    "##determine defunct airlines by performing a boolean check on the \"Active\" column in the airlines dataframe\n",
    "\n",
    "len(airlines[airlines[\"Active\"]==\"N\"]) #use len() function to count the length of the inactive airline frame"
   ]
  },
  {
   "cell_type": "markdown",
   "metadata": {},
   "source": [
    "## Determine flights from nowhere"
   ]
  },
  {
   "cell_type": "markdown",
   "metadata": {},
   "source": [
    "### Flights from nowhere were defined as those having no \"Source Airport ID\" in the Routes information"
   ]
  },
  {
   "cell_type": "code",
   "execution_count": 27,
   "metadata": {
    "collapsed": false
   },
   "outputs": [
    {
     "name": "stdout",
     "output_type": "stream",
     "text": [
      "<type 'numpy.int64'>\n",
      "<type 'str'>\n"
     ]
    }
   ],
   "source": [
    "##Determine \"Flights from Nowhere\" that do not originate from an airport in the airports data\n",
    "\n",
    "print type(airports.ix[0,0])  # check the datatype of the Airport ID in the airports dataframe\n",
    "\n",
    "print type(Routes.ix[0,3]) # check the datatype of the Source Airport ID in the Routes dataframe"
   ]
  },
  {
   "cell_type": "code",
   "execution_count": 28,
   "metadata": {
    "collapsed": true
   },
   "outputs": [],
   "source": [
    "#Datatype mismatch between Airport ID in airports dataframe (integer) and Source ID in Routes (string)"
   ]
  },
  {
   "cell_type": "code",
   "execution_count": 29,
   "metadata": {
    "collapsed": false
   },
   "outputs": [
    {
     "data": {
      "text/plain": [
       "str"
      ]
     },
     "execution_count": 29,
     "metadata": {},
     "output_type": "execute_result"
    }
   ],
   "source": [
    "comparitor = airports[\"Airport_ID\"]  #create a new Series containing only Airport ID from Airport DataFrame\n",
    "comparitor = comparitor.astype(str) #convert the series to a string datatype\n",
    "type(comparitor[0]) #check type\n"
   ]
  },
  {
   "cell_type": "markdown",
   "metadata": {},
   "source": [
    "### Time to find those \"Flights from Nowhere\".  Use the .inin() function in conjunction with the Source Airport ID Series from the Routes Frame.  The .isin() function will check the Source Airport ID Series against the comparitor Series that was created above"
   ]
  },
  {
   "cell_type": "code",
   "execution_count": 30,
   "metadata": {
    "collapsed": false
   },
   "outputs": [
    {
     "data": {
      "text/html": [
       "<div>\n",
       "<table border=\"1\" class=\"dataframe\">\n",
       "  <thead>\n",
       "    <tr style=\"text-align: right;\">\n",
       "      <th></th>\n",
       "      <th>Airline</th>\n",
       "      <th>ID</th>\n",
       "      <th>Source</th>\n",
       "      <th>Source_ID</th>\n",
       "      <th>Destination</th>\n",
       "      <th>Destination_ID</th>\n",
       "      <th>Codeshare</th>\n",
       "      <th>Stops</th>\n",
       "      <th>Equipment</th>\n",
       "    </tr>\n",
       "  </thead>\n",
       "  <tbody>\n",
       "    <tr>\n",
       "      <th>38</th>\n",
       "      <td>2B</td>\n",
       "      <td>410</td>\n",
       "      <td>TGK</td>\n",
       "      <td>\\N</td>\n",
       "      <td>DME</td>\n",
       "      <td>4029</td>\n",
       "      <td>NaN</td>\n",
       "      <td>0</td>\n",
       "      <td>CR2</td>\n",
       "    </tr>\n",
       "    <tr>\n",
       "      <th>54</th>\n",
       "      <td>2G</td>\n",
       "      <td>1654</td>\n",
       "      <td>KCK</td>\n",
       "      <td>\\N</td>\n",
       "      <td>IKT</td>\n",
       "      <td>2937</td>\n",
       "      <td>NaN</td>\n",
       "      <td>0</td>\n",
       "      <td>AN4</td>\n",
       "    </tr>\n",
       "    <tr>\n",
       "      <th>175</th>\n",
       "      <td>2O</td>\n",
       "      <td>146</td>\n",
       "      <td>AOS</td>\n",
       "      <td>7167</td>\n",
       "      <td>KZB</td>\n",
       "      <td>7176</td>\n",
       "      <td>NaN</td>\n",
       "      <td>0</td>\n",
       "      <td>BNI</td>\n",
       "    </tr>\n",
       "    <tr>\n",
       "      <th>176</th>\n",
       "      <td>2O</td>\n",
       "      <td>146</td>\n",
       "      <td>KKB</td>\n",
       "      <td>7168</td>\n",
       "      <td>SYB</td>\n",
       "      <td>7173</td>\n",
       "      <td>NaN</td>\n",
       "      <td>0</td>\n",
       "      <td>BNI</td>\n",
       "    </tr>\n",
       "    <tr>\n",
       "      <th>178</th>\n",
       "      <td>2O</td>\n",
       "      <td>146</td>\n",
       "      <td>KOZ</td>\n",
       "      <td>7164</td>\n",
       "      <td>ORI</td>\n",
       "      <td>7165</td>\n",
       "      <td>NaN</td>\n",
       "      <td>0</td>\n",
       "      <td>BNI</td>\n",
       "    </tr>\n",
       "  </tbody>\n",
       "</table>\n",
       "</div>"
      ],
      "text/plain": [
       "    Airline    ID Source Source_ID Destination Destination_ID Codeshare  \\\n",
       "38       2B   410    TGK        \\N         DME           4029       NaN   \n",
       "54       2G  1654    KCK        \\N         IKT           2937       NaN   \n",
       "175      2O   146    AOS      7167         KZB           7176       NaN   \n",
       "176      2O   146    KKB      7168         SYB           7173       NaN   \n",
       "178      2O   146    KOZ      7164         ORI           7165       NaN   \n",
       "\n",
       "     Stops Equipment  \n",
       "38       0       CR2  \n",
       "54       0       AN4  \n",
       "175      0       BNI  \n",
       "176      0       BNI  \n",
       "178      0       BNI  "
      ]
     },
     "execution_count": 30,
     "metadata": {},
     "output_type": "execute_result"
    }
   ],
   "source": [
    "ghost_flights = Routes[Routes[\"Source_ID\"].isin(comparitor)==False]\n",
    "ghost_flights.head()"
   ]
  },
  {
   "cell_type": "code",
   "execution_count": 31,
   "metadata": {
    "collapsed": false
   },
   "outputs": [
    {
     "data": {
      "text/plain": [
       "859"
      ]
     },
     "execution_count": 31,
     "metadata": {},
     "output_type": "execute_result"
    }
   ],
   "source": [
    "len(ghost_flights)  #print the length of the ghost_flights DataFrame"
   ]
  },
  {
   "cell_type": "markdown",
   "metadata": {},
   "source": [
    "## Determine the closest airport to my apartment using the haversine function defined earlier in the script"
   ]
  },
  {
   "cell_type": "code",
   "execution_count": 32,
   "metadata": {
    "collapsed": true
   },
   "outputs": [],
   "source": [
    "#find and define my latitude and longitude in Houston, Texas.\n",
    "my_lat = 29.782677\n",
    "my_lon = -95.44"
   ]
  },
  {
   "cell_type": "code",
   "execution_count": 33,
   "metadata": {
    "collapsed": true
   },
   "outputs": [],
   "source": [
    "#Create Series in the Airports dataframe containing my_lat and my_long as the entries\n",
    "airports[\"my_lat\"] = my_lat  \n",
    "airports[\"my_lon\"] = my_lon"
   ]
  },
  {
   "cell_type": "code",
   "execution_count": 34,
   "metadata": {
    "collapsed": true
   },
   "outputs": [],
   "source": [
    "#create a calculated column in the airports dataframe by applying the haversine formula to the Airport lat, airport long, my_lat, and my_long\n",
    "airports[\"Proximity\"] = airports[[\"Latitude\",\"Longitude\",\"my_lat\",\"my_lon\"]].apply(haversine, axis = 1)"
   ]
  },
  {
   "cell_type": "code",
   "execution_count": 35,
   "metadata": {
    "collapsed": true
   },
   "outputs": [],
   "source": [
    "sorted = airports.sort_values(\"Proximity\", ascending=True).head()  # sort results by proximity to my apartment closest first"
   ]
  },
  {
   "cell_type": "code",
   "execution_count": 36,
   "metadata": {
    "collapsed": false
   },
   "outputs": [
    {
     "data": {
      "text/html": [
       "<div>\n",
       "<table border=\"1\" class=\"dataframe\">\n",
       "  <thead>\n",
       "    <tr style=\"text-align: right;\">\n",
       "      <th></th>\n",
       "      <th>Airport_ID</th>\n",
       "      <th>Name</th>\n",
       "      <th>City</th>\n",
       "      <th>Country</th>\n",
       "      <th>IATA</th>\n",
       "      <th>ICAO</th>\n",
       "      <th>Latitude</th>\n",
       "      <th>Longitude</th>\n",
       "      <th>Altitude</th>\n",
       "      <th>Timezone</th>\n",
       "      <th>DST</th>\n",
       "      <th>Tz</th>\n",
       "      <th>Type</th>\n",
       "      <th>Source</th>\n",
       "      <th>my_lat</th>\n",
       "      <th>my_lon</th>\n",
       "      <th>Proximity</th>\n",
       "    </tr>\n",
       "  </thead>\n",
       "  <tbody>\n",
       "    <tr>\n",
       "      <th>6435</th>\n",
       "      <td>9225</td>\n",
       "      <td>Andrau Airpark</td>\n",
       "      <td>Houston</td>\n",
       "      <td>United States</td>\n",
       "      <td>AAP</td>\n",
       "      <td>KAAP</td>\n",
       "      <td>29.722500</td>\n",
       "      <td>-95.588303</td>\n",
       "      <td>79</td>\n",
       "      <td>-6</td>\n",
       "      <td>A</td>\n",
       "      <td>America/Chicago</td>\n",
       "      <td>airport</td>\n",
       "      <td>OurAirports</td>\n",
       "      <td>29.782677</td>\n",
       "      <td>-95.44</td>\n",
       "      <td>15.803211</td>\n",
       "    </tr>\n",
       "    <tr>\n",
       "      <th>3351</th>\n",
       "      <td>3566</td>\n",
       "      <td>William P Hobby Airport</td>\n",
       "      <td>Houston</td>\n",
       "      <td>United States</td>\n",
       "      <td>HOU</td>\n",
       "      <td>KHOU</td>\n",
       "      <td>29.645399</td>\n",
       "      <td>-95.278900</td>\n",
       "      <td>46</td>\n",
       "      <td>-6</td>\n",
       "      <td>A</td>\n",
       "      <td>America/Chicago</td>\n",
       "      <td>airport</td>\n",
       "      <td>OurAirports</td>\n",
       "      <td>29.782677</td>\n",
       "      <td>-95.44</td>\n",
       "      <td>21.795887</td>\n",
       "    </tr>\n",
       "    <tr>\n",
       "      <th>3965</th>\n",
       "      <td>4226</td>\n",
       "      <td>West Houston Airport</td>\n",
       "      <td>Houston</td>\n",
       "      <td>United States</td>\n",
       "      <td>IWS</td>\n",
       "      <td>KIWS</td>\n",
       "      <td>29.818199</td>\n",
       "      <td>-95.672600</td>\n",
       "      <td>111</td>\n",
       "      <td>-6</td>\n",
       "      <td>A</td>\n",
       "      <td>America/Chicago</td>\n",
       "      <td>airport</td>\n",
       "      <td>OurAirports</td>\n",
       "      <td>29.782677</td>\n",
       "      <td>-95.44</td>\n",
       "      <td>22.788632</td>\n",
       "    </tr>\n",
       "    <tr>\n",
       "      <th>3335</th>\n",
       "      <td>3550</td>\n",
       "      <td>George Bush Intercontinental Houston Airport</td>\n",
       "      <td>Houston</td>\n",
       "      <td>United States</td>\n",
       "      <td>IAH</td>\n",
       "      <td>KIAH</td>\n",
       "      <td>29.984400</td>\n",
       "      <td>-95.341400</td>\n",
       "      <td>97</td>\n",
       "      <td>-6</td>\n",
       "      <td>A</td>\n",
       "      <td>America/Chicago</td>\n",
       "      <td>airport</td>\n",
       "      <td>OurAirports</td>\n",
       "      <td>29.782677</td>\n",
       "      <td>-95.44</td>\n",
       "      <td>24.361743</td>\n",
       "    </tr>\n",
       "    <tr>\n",
       "      <th>3959</th>\n",
       "      <td>4220</td>\n",
       "      <td>Sugar Land Regional Airport</td>\n",
       "      <td>Sugar Land</td>\n",
       "      <td>United States</td>\n",
       "      <td>SGR</td>\n",
       "      <td>KSGR</td>\n",
       "      <td>29.622299</td>\n",
       "      <td>-95.656502</td>\n",
       "      <td>82</td>\n",
       "      <td>-6</td>\n",
       "      <td>A</td>\n",
       "      <td>America/Chicago</td>\n",
       "      <td>airport</td>\n",
       "      <td>OurAirports</td>\n",
       "      <td>29.782677</td>\n",
       "      <td>-95.44</td>\n",
       "      <td>27.482450</td>\n",
       "    </tr>\n",
       "  </tbody>\n",
       "</table>\n",
       "</div>"
      ],
      "text/plain": [
       "      Airport_ID                                          Name        City  \\\n",
       "6435        9225                                Andrau Airpark     Houston   \n",
       "3351        3566                       William P Hobby Airport     Houston   \n",
       "3965        4226                          West Houston Airport     Houston   \n",
       "3335        3550  George Bush Intercontinental Houston Airport     Houston   \n",
       "3959        4220                   Sugar Land Regional Airport  Sugar Land   \n",
       "\n",
       "            Country IATA  ICAO   Latitude  Longitude  Altitude Timezone DST  \\\n",
       "6435  United States  AAP  KAAP  29.722500 -95.588303        79       -6   A   \n",
       "3351  United States  HOU  KHOU  29.645399 -95.278900        46       -6   A   \n",
       "3965  United States  IWS  KIWS  29.818199 -95.672600       111       -6   A   \n",
       "3335  United States  IAH  KIAH  29.984400 -95.341400        97       -6   A   \n",
       "3959  United States  SGR  KSGR  29.622299 -95.656502        82       -6   A   \n",
       "\n",
       "                   Tz     Type       Source     my_lat  my_lon  Proximity  \n",
       "6435  America/Chicago  airport  OurAirports  29.782677  -95.44  15.803211  \n",
       "3351  America/Chicago  airport  OurAirports  29.782677  -95.44  21.795887  \n",
       "3965  America/Chicago  airport  OurAirports  29.782677  -95.44  22.788632  \n",
       "3335  America/Chicago  airport  OurAirports  29.782677  -95.44  24.361743  \n",
       "3959  America/Chicago  airport  OurAirports  29.782677  -95.44  27.482450  "
      ]
     },
     "execution_count": 36,
     "metadata": {},
     "output_type": "execute_result"
    }
   ],
   "source": [
    "sorted"
   ]
  },
  {
   "cell_type": "markdown",
   "metadata": {},
   "source": [
    "### Andrau Airpark is the closest to me, although I have never heard of it before.  It is certainly not a substantial airfport compared with George Bush Intercontinental and Hobby.\n"
   ]
  },
  {
   "cell_type": "markdown",
   "metadata": {},
   "source": [
    "[Andrau_Airpark](https://en.wikipedia.org/wiki/Andrau_Airpark)\n",
    "<-------- this link shows the airport was only in use through 1998, which is why I have never heard of it before."
   ]
  },
  {
   "cell_type": "code",
   "execution_count": 54,
   "metadata": {
    "collapsed": false
   },
   "outputs": [
    {
     "data": {
      "text/html": [
       "<div>\n",
       "<table border=\"1\" class=\"dataframe\">\n",
       "  <thead>\n",
       "    <tr style=\"text-align: right;\">\n",
       "      <th></th>\n",
       "      <th>Airline</th>\n",
       "      <th>ID</th>\n",
       "      <th>Source</th>\n",
       "      <th>Source_ID</th>\n",
       "      <th>Destination</th>\n",
       "      <th>Destination_ID</th>\n",
       "      <th>Codeshare</th>\n",
       "      <th>Stops</th>\n",
       "      <th>Equipment</th>\n",
       "    </tr>\n",
       "  </thead>\n",
       "  <tbody>\n",
       "  </tbody>\n",
       "</table>\n",
       "</div>"
      ],
      "text/plain": [
       "Empty DataFrame\n",
       "Columns: [Airline, ID, Source, Source_ID, Destination, Destination_ID, Codeshare, Stops, Equipment]\n",
       "Index: []"
      ]
     },
     "execution_count": 54,
     "metadata": {},
     "output_type": "execute_result"
    }
   ],
   "source": [
    "#Check the Andrau Airpark airport id against the Routes dataframe \"source_id\" Series\n",
    "Andrau = str(9225)\n",
    "\n",
    "type(Routes.ix[0,3])\n",
    "\n",
    "Routes[Routes[\"Source\"]==\"AAP\"]"
   ]
  },
  {
   "cell_type": "code",
   "execution_count": 38,
   "metadata": {
    "collapsed": true
   },
   "outputs": [],
   "source": [
    "#did not find any departing flights from Andrau listed"
   ]
  },
  {
   "cell_type": "code",
   "execution_count": 39,
   "metadata": {
    "collapsed": false
   },
   "outputs": [
    {
     "data": {
      "text/html": [
       "<div>\n",
       "<table border=\"1\" class=\"dataframe\">\n",
       "  <thead>\n",
       "    <tr style=\"text-align: right;\">\n",
       "      <th></th>\n",
       "      <th>Airline</th>\n",
       "      <th>ID</th>\n",
       "      <th>Source</th>\n",
       "      <th>Source_ID</th>\n",
       "      <th>Destination</th>\n",
       "      <th>Destination_ID</th>\n",
       "      <th>Codeshare</th>\n",
       "      <th>Stops</th>\n",
       "      <th>Equipment</th>\n",
       "    </tr>\n",
       "  </thead>\n",
       "  <tbody>\n",
       "    <tr>\n",
       "      <th>5530</th>\n",
       "      <td>AA</td>\n",
       "      <td>24</td>\n",
       "      <td>HOU</td>\n",
       "      <td>3566</td>\n",
       "      <td>DFW</td>\n",
       "      <td>3670</td>\n",
       "      <td>NaN</td>\n",
       "      <td>0</td>\n",
       "      <td>M83 M80</td>\n",
       "    </tr>\n",
       "    <tr>\n",
       "      <th>13397</th>\n",
       "      <td>AZ</td>\n",
       "      <td>596</td>\n",
       "      <td>HOU</td>\n",
       "      <td>3566</td>\n",
       "      <td>ATL</td>\n",
       "      <td>3682</td>\n",
       "      <td>Y</td>\n",
       "      <td>0</td>\n",
       "      <td>M88</td>\n",
       "    </tr>\n",
       "    <tr>\n",
       "      <th>14032</th>\n",
       "      <td>B6</td>\n",
       "      <td>3029</td>\n",
       "      <td>HOU</td>\n",
       "      <td>3566</td>\n",
       "      <td>BOS</td>\n",
       "      <td>3448</td>\n",
       "      <td>NaN</td>\n",
       "      <td>0</td>\n",
       "      <td>E90</td>\n",
       "    </tr>\n",
       "    <tr>\n",
       "      <th>14033</th>\n",
       "      <td>B6</td>\n",
       "      <td>3029</td>\n",
       "      <td>HOU</td>\n",
       "      <td>3566</td>\n",
       "      <td>JFK</td>\n",
       "      <td>3797</td>\n",
       "      <td>NaN</td>\n",
       "      <td>0</td>\n",
       "      <td>E90</td>\n",
       "    </tr>\n",
       "    <tr>\n",
       "      <th>20842</th>\n",
       "      <td>DL</td>\n",
       "      <td>2009</td>\n",
       "      <td>HOU</td>\n",
       "      <td>3566</td>\n",
       "      <td>ATL</td>\n",
       "      <td>3682</td>\n",
       "      <td>NaN</td>\n",
       "      <td>0</td>\n",
       "      <td>M88</td>\n",
       "    </tr>\n",
       "  </tbody>\n",
       "</table>\n",
       "</div>"
      ],
      "text/plain": [
       "      Airline    ID Source Source_ID Destination Destination_ID Codeshare  \\\n",
       "5530       AA    24    HOU      3566         DFW           3670       NaN   \n",
       "13397      AZ   596    HOU      3566         ATL           3682         Y   \n",
       "14032      B6  3029    HOU      3566         BOS           3448       NaN   \n",
       "14033      B6  3029    HOU      3566         JFK           3797       NaN   \n",
       "20842      DL  2009    HOU      3566         ATL           3682       NaN   \n",
       "\n",
       "       Stops Equipment  \n",
       "5530       0   M83 M80  \n",
       "13397      0       M88  \n",
       "14032      0       E90  \n",
       "14033      0       E90  \n",
       "20842      0       M88  "
      ]
     },
     "execution_count": 39,
     "metadata": {},
     "output_type": "execute_result"
    }
   ],
   "source": [
    "# moved to Hobby as a fairly substantial airport expecting hits\n",
    "Routes[Routes[\"Source\"]==\"HOU\"].head()   #conduct Boolean check on the Source series within the DataFrame and return True values"
   ]
  },
  {
   "cell_type": "code",
   "execution_count": 40,
   "metadata": {
    "collapsed": false
   },
   "outputs": [
    {
     "data": {
      "text/plain": [
       "79"
      ]
     },
     "execution_count": 40,
     "metadata": {},
     "output_type": "execute_result"
    }
   ],
   "source": [
    "# how many flights departing from hobby?\n",
    "len(Routes[Routes[\"Source\"]==\"HOU\"])"
   ]
  },
  {
   "cell_type": "code",
   "execution_count": 50,
   "metadata": {
    "collapsed": true
   },
   "outputs": [],
   "source": [
    "#Found 79 flights departing from hobby "
   ]
  },
  {
   "cell_type": "markdown",
   "metadata": {},
   "source": [
    "## How many flights entering Hobby from EGO Source Airport?"
   ]
  },
  {
   "cell_type": "code",
   "execution_count": 42,
   "metadata": {
    "collapsed": false
   },
   "outputs": [
    {
     "data": {
      "text/html": [
       "<div>\n",
       "<table border=\"1\" class=\"dataframe\">\n",
       "  <thead>\n",
       "    <tr style=\"text-align: right;\">\n",
       "      <th></th>\n",
       "      <th>Airline</th>\n",
       "      <th>ID</th>\n",
       "      <th>Source</th>\n",
       "      <th>Source_ID</th>\n",
       "      <th>Destination</th>\n",
       "      <th>Destination_ID</th>\n",
       "      <th>Codeshare</th>\n",
       "      <th>Stops</th>\n",
       "      <th>Equipment</th>\n",
       "    </tr>\n",
       "  </thead>\n",
       "  <tbody>\n",
       "  </tbody>\n",
       "</table>\n",
       "</div>"
      ],
      "text/plain": [
       "Empty DataFrame\n",
       "Columns: [Airline, ID, Source, Source_ID, Destination, Destination_ID, Codeshare, Stops, Equipment]\n",
       "Index: []"
      ]
     },
     "execution_count": 42,
     "metadata": {},
     "output_type": "execute_result"
    }
   ],
   "source": [
    "Routes[(Routes[\"Source\"]==\"EGO\")&(Routes[\"Destination\"]==\"HOU\")]  #dual condition boolean check on the Source Airport and the Destination"
   ]
  },
  {
   "cell_type": "markdown",
   "metadata": {},
   "source": [
    "### No flights located that departed EGO and arrived HOU.  How many flights departed EGO in total?"
   ]
  },
  {
   "cell_type": "code",
   "execution_count": 43,
   "metadata": {
    "collapsed": false,
    "scrolled": true
   },
   "outputs": [
    {
     "data": {
      "text/html": [
       "<div>\n",
       "<table border=\"1\" class=\"dataframe\">\n",
       "  <thead>\n",
       "    <tr style=\"text-align: right;\">\n",
       "      <th></th>\n",
       "      <th>Airline</th>\n",
       "      <th>ID</th>\n",
       "      <th>Source</th>\n",
       "      <th>Source_ID</th>\n",
       "      <th>Destination</th>\n",
       "      <th>Destination_ID</th>\n",
       "      <th>Codeshare</th>\n",
       "      <th>Stops</th>\n",
       "      <th>Equipment</th>\n",
       "    </tr>\n",
       "  </thead>\n",
       "  <tbody>\n",
       "    <tr>\n",
       "      <th>9</th>\n",
       "      <td>2B</td>\n",
       "      <td>410</td>\n",
       "      <td>EGO</td>\n",
       "      <td>6156</td>\n",
       "      <td>KGD</td>\n",
       "      <td>2952</td>\n",
       "      <td>NaN</td>\n",
       "      <td>0</td>\n",
       "      <td>CR2</td>\n",
       "    </tr>\n",
       "    <tr>\n",
       "      <th>10</th>\n",
       "      <td>2B</td>\n",
       "      <td>410</td>\n",
       "      <td>EGO</td>\n",
       "      <td>6156</td>\n",
       "      <td>KZN</td>\n",
       "      <td>2990</td>\n",
       "      <td>NaN</td>\n",
       "      <td>0</td>\n",
       "      <td>CR2</td>\n",
       "    </tr>\n",
       "    <tr>\n",
       "      <th>572</th>\n",
       "      <td>3R</td>\n",
       "      <td>3545</td>\n",
       "      <td>EGO</td>\n",
       "      <td>6156</td>\n",
       "      <td>DME</td>\n",
       "      <td>4029</td>\n",
       "      <td>NaN</td>\n",
       "      <td>0</td>\n",
       "      <td>SU9</td>\n",
       "    </tr>\n",
       "    <tr>\n",
       "      <th>2901</th>\n",
       "      <td>7R</td>\n",
       "      <td>1469</td>\n",
       "      <td>EGO</td>\n",
       "      <td>6156</td>\n",
       "      <td>DME</td>\n",
       "      <td>4029</td>\n",
       "      <td>NaN</td>\n",
       "      <td>0</td>\n",
       "      <td>CR2</td>\n",
       "    </tr>\n",
       "    <tr>\n",
       "      <th>2902</th>\n",
       "      <td>7R</td>\n",
       "      <td>1469</td>\n",
       "      <td>EGO</td>\n",
       "      <td>6156</td>\n",
       "      <td>KUF</td>\n",
       "      <td>4118</td>\n",
       "      <td>NaN</td>\n",
       "      <td>0</td>\n",
       "      <td>CR2</td>\n",
       "    </tr>\n",
       "    <tr>\n",
       "      <th>2903</th>\n",
       "      <td>7R</td>\n",
       "      <td>1469</td>\n",
       "      <td>EGO</td>\n",
       "      <td>6156</td>\n",
       "      <td>ROV</td>\n",
       "      <td>2964</td>\n",
       "      <td>NaN</td>\n",
       "      <td>0</td>\n",
       "      <td>CR2</td>\n",
       "    </tr>\n",
       "    <tr>\n",
       "      <th>37314</th>\n",
       "      <td>KR</td>\n",
       "      <td>1844</td>\n",
       "      <td>EGO</td>\n",
       "      <td>6156</td>\n",
       "      <td>FRU</td>\n",
       "      <td>2912</td>\n",
       "      <td>NaN</td>\n",
       "      <td>0</td>\n",
       "      <td>320</td>\n",
       "    </tr>\n",
       "    <tr>\n",
       "      <th>47766</th>\n",
       "      <td>R3</td>\n",
       "      <td>1287</td>\n",
       "      <td>EGO</td>\n",
       "      <td>6156</td>\n",
       "      <td>KRR</td>\n",
       "      <td>2960</td>\n",
       "      <td>NaN</td>\n",
       "      <td>0</td>\n",
       "      <td>DH4</td>\n",
       "    </tr>\n",
       "    <tr>\n",
       "      <th>65901</th>\n",
       "      <td>Y7</td>\n",
       "      <td>13088</td>\n",
       "      <td>EGO</td>\n",
       "      <td>6156</td>\n",
       "      <td>GOJ</td>\n",
       "      <td>4274</td>\n",
       "      <td>NaN</td>\n",
       "      <td>0</td>\n",
       "      <td>738</td>\n",
       "    </tr>\n",
       "    <tr>\n",
       "      <th>66230</th>\n",
       "      <td>YQ</td>\n",
       "      <td>16882</td>\n",
       "      <td>EGO</td>\n",
       "      <td>6156</td>\n",
       "      <td>DME</td>\n",
       "      <td>4029</td>\n",
       "      <td>NaN</td>\n",
       "      <td>0</td>\n",
       "      <td>SFB</td>\n",
       "    </tr>\n",
       "    <tr>\n",
       "      <th>66231</th>\n",
       "      <td>YQ</td>\n",
       "      <td>16882</td>\n",
       "      <td>EGO</td>\n",
       "      <td>6156</td>\n",
       "      <td>LED</td>\n",
       "      <td>2948</td>\n",
       "      <td>NaN</td>\n",
       "      <td>0</td>\n",
       "      <td>S20</td>\n",
       "    </tr>\n",
       "  </tbody>\n",
       "</table>\n",
       "</div>"
      ],
      "text/plain": [
       "      Airline     ID Source Source_ID Destination Destination_ID Codeshare  \\\n",
       "9          2B    410    EGO      6156         KGD           2952       NaN   \n",
       "10         2B    410    EGO      6156         KZN           2990       NaN   \n",
       "572        3R   3545    EGO      6156         DME           4029       NaN   \n",
       "2901       7R   1469    EGO      6156         DME           4029       NaN   \n",
       "2902       7R   1469    EGO      6156         KUF           4118       NaN   \n",
       "2903       7R   1469    EGO      6156         ROV           2964       NaN   \n",
       "37314      KR   1844    EGO      6156         FRU           2912       NaN   \n",
       "47766      R3   1287    EGO      6156         KRR           2960       NaN   \n",
       "65901      Y7  13088    EGO      6156         GOJ           4274       NaN   \n",
       "66230      YQ  16882    EGO      6156         DME           4029       NaN   \n",
       "66231      YQ  16882    EGO      6156         LED           2948       NaN   \n",
       "\n",
       "       Stops Equipment  \n",
       "9          0       CR2  \n",
       "10         0       CR2  \n",
       "572        0       SU9  \n",
       "2901       0       CR2  \n",
       "2902       0       CR2  \n",
       "2903       0       CR2  \n",
       "37314      0       320  \n",
       "47766      0       DH4  \n",
       "65901      0       738  \n",
       "66230      0       SFB  \n",
       "66231      0       S20  "
      ]
     },
     "execution_count": 43,
     "metadata": {},
     "output_type": "execute_result"
    }
   ],
   "source": [
    "Routes[Routes[\"Source\"]==\"EGO\"]  # boolean slice of the dataframe using the \"EGO\" Source"
   ]
  },
  {
   "cell_type": "code",
   "execution_count": 44,
   "metadata": {
    "collapsed": false
   },
   "outputs": [
    {
     "name": "stdout",
     "output_type": "stream",
     "text": [
      "11\n"
     ]
    }
   ],
   "source": [
    "print len(Routes[Routes[\"Source\"]==\"EGO\"])"
   ]
  }
 ],
 "metadata": {
  "kernelspec": {
   "display_name": "Python 2",
   "language": "python",
   "name": "python2"
  },
  "language_info": {
   "codemirror_mode": {
    "name": "ipython",
    "version": 2
   },
   "file_extension": ".py",
   "mimetype": "text/x-python",
   "name": "python",
   "nbconvert_exporter": "python",
   "pygments_lexer": "ipython2",
   "version": "2.7.11"
  }
 },
 "nbformat": 4,
 "nbformat_minor": 0
}
